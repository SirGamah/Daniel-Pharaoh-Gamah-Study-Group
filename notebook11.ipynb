{
 "cells": [
  {
   "cell_type": "markdown",
   "id": "f8b70d12",
   "metadata": {},
   "source": [
    "# Finding the best chocolate bars\n",
    "\n",
    "Now let's now move on to the competition and challenge.\n",
    "\n",
    "## 📖 Background\n",
    "You work at a specialty foods import company that wants to expand into gourmet chocolate bars. Your boss needs your team to research this market to inform your initial approach to potential suppliers.\n",
    "\n",
    "After finding valuable chocolate bar ratings online, you need to explore if the chocolate bars with the highest ratings share any characteristics that could help you narrow your search for suppliers (e.g., cacao percentage, bean country of origin, etc.)"
   ]
  },
  {
   "cell_type": "markdown",
   "id": "bb4cd736",
   "metadata": {},
   "source": [
    "## 💾 The data\n",
    "\n",
    "#### Your team created a file with the following information ([source](https://flavorsofcacao.com)):\n",
    "- \"id\" - id number of the review\n",
    "- \"manufacturer\" - Name of the bar manufacturer\n",
    "- \"company_location\" - Location of the manufacturer\n",
    "- \"year_reviewed\" - From 2006 to 2021\n",
    "- \"bean_origin\" - Country of origin of the cacao beans\n",
    "- \"bar_name\" - Name of the chocolate bar\n",
    "- \"cocoa_percent\" - Cocoa content of the bar (%)\n",
    "- \"num_ingredients\" - Number of ingredients\n",
    "- \"ingredients\" - B (Beans), S (Sugar), S* (Sweetener other than sugar or beet sugar), C (Cocoa Butter), (V) Vanilla, (L) Lecithin, (Sa) Salt\n",
    "- \"review\" - Summary of most memorable characteristics of the chocolate bar\n",
    "- \"rating\" - 1.0-1.9 Unpleasant, 2.0-2.9 Disappointing, 3.0-3.49 Recommended, 3.5-3.9 Highly Recommended, 4.0-5.0 Oustanding\n",
    "\n",
    "***Acknowledgments**: Brady Brelinski, Manhattan Chocolate Society*"
   ]
  },
  {
   "cell_type": "markdown",
   "id": "6c0744d0",
   "metadata": {},
   "source": [
    "## 💪 Challenge\n",
    "Create a report to summarize your research. Include:\n",
    "\n",
    "1. What is the average rating by country of origin?\n",
    "2. How many bars were reviewed for each of those countries?\n",
    "3. Create plots to visualize findings for questions 1 and 2.\n",
    "4. Is the cacao bean's origin an indicator of quality? \n",
    "5. [Optional] How does cocoa content relate to rating? What is the average cocoa content for bars with higher ratings (above 3.5)?\n",
    "6. [Optional 2] Your research indicates that some consumers want to avoid bars with lecithin. Compare the average rating of bars with and without lecithin (L in the ingredients).\n",
    "7. Summarize your findings."
   ]
  },
  {
   "cell_type": "markdown",
   "id": "f27757c4-e222-4b92-a707-5c957d49b63b",
   "metadata": {},
   "source": [
    "## Importing modules"
   ]
  },
  {
   "cell_type": "code",
   "execution_count": 1,
   "id": "cc018016-bca3-40db-98c2-a773f92ade5a",
   "metadata": {},
   "outputs": [],
   "source": [
    "# Import modules\n",
    "import pandas as pd\n",
    "import matplotlib.pyplot as plt\n",
    "import seaborn as sns"
   ]
  },
  {
   "cell_type": "markdown",
   "id": "3c453369",
   "metadata": {},
   "source": [
    "## Read data"
   ]
  },
  {
   "cell_type": "code",
   "execution_count": 2,
   "id": "e2eb6cfa",
   "metadata": {},
   "outputs": [
    {
     "data": {
      "text/html": [
       "<div>\n",
       "<style scoped>\n",
       "    .dataframe tbody tr th:only-of-type {\n",
       "        vertical-align: middle;\n",
       "    }\n",
       "\n",
       "    .dataframe tbody tr th {\n",
       "        vertical-align: top;\n",
       "    }\n",
       "\n",
       "    .dataframe thead th {\n",
       "        text-align: right;\n",
       "    }\n",
       "</style>\n",
       "<table border=\"1\" class=\"dataframe\">\n",
       "  <thead>\n",
       "    <tr style=\"text-align: right;\">\n",
       "      <th></th>\n",
       "      <th>id</th>\n",
       "      <th>manufacturer</th>\n",
       "      <th>company_location</th>\n",
       "      <th>year_reviewed</th>\n",
       "      <th>bean_origin</th>\n",
       "      <th>bar_name</th>\n",
       "      <th>cocoa_percent</th>\n",
       "      <th>num_ingredients</th>\n",
       "      <th>ingredients</th>\n",
       "      <th>review</th>\n",
       "      <th>rating</th>\n",
       "    </tr>\n",
       "  </thead>\n",
       "  <tbody>\n",
       "    <tr>\n",
       "      <th>0</th>\n",
       "      <td>2454</td>\n",
       "      <td>5150</td>\n",
       "      <td>U.S.A.</td>\n",
       "      <td>2019</td>\n",
       "      <td>Tanzania</td>\n",
       "      <td>Kokoa Kamili, batch 1</td>\n",
       "      <td>76.0</td>\n",
       "      <td>3.0</td>\n",
       "      <td>B,S,C</td>\n",
       "      <td>rich cocoa, fatty, bready</td>\n",
       "      <td>3.25</td>\n",
       "    </tr>\n",
       "    <tr>\n",
       "      <th>1</th>\n",
       "      <td>2458</td>\n",
       "      <td>5150</td>\n",
       "      <td>U.S.A.</td>\n",
       "      <td>2019</td>\n",
       "      <td>Dominican Republic</td>\n",
       "      <td>Zorzal, batch 1</td>\n",
       "      <td>76.0</td>\n",
       "      <td>3.0</td>\n",
       "      <td>B,S,C</td>\n",
       "      <td>cocoa, vegetal, savory</td>\n",
       "      <td>3.50</td>\n",
       "    </tr>\n",
       "    <tr>\n",
       "      <th>2</th>\n",
       "      <td>2454</td>\n",
       "      <td>5150</td>\n",
       "      <td>U.S.A.</td>\n",
       "      <td>2019</td>\n",
       "      <td>Madagascar</td>\n",
       "      <td>Bejofo Estate, batch 1</td>\n",
       "      <td>76.0</td>\n",
       "      <td>3.0</td>\n",
       "      <td>B,S,C</td>\n",
       "      <td>cocoa, blackberry, full body</td>\n",
       "      <td>3.75</td>\n",
       "    </tr>\n",
       "    <tr>\n",
       "      <th>3</th>\n",
       "      <td>2542</td>\n",
       "      <td>5150</td>\n",
       "      <td>U.S.A.</td>\n",
       "      <td>2021</td>\n",
       "      <td>Fiji</td>\n",
       "      <td>Matasawalevu, batch 1</td>\n",
       "      <td>68.0</td>\n",
       "      <td>3.0</td>\n",
       "      <td>B,S,C</td>\n",
       "      <td>chewy, off, rubbery</td>\n",
       "      <td>3.00</td>\n",
       "    </tr>\n",
       "    <tr>\n",
       "      <th>4</th>\n",
       "      <td>2546</td>\n",
       "      <td>5150</td>\n",
       "      <td>U.S.A.</td>\n",
       "      <td>2021</td>\n",
       "      <td>Venezuela</td>\n",
       "      <td>Sur del Lago, batch 1</td>\n",
       "      <td>72.0</td>\n",
       "      <td>3.0</td>\n",
       "      <td>B,S,C</td>\n",
       "      <td>fatty, earthy, moss, nutty,chalky</td>\n",
       "      <td>3.00</td>\n",
       "    </tr>\n",
       "  </tbody>\n",
       "</table>\n",
       "</div>"
      ],
      "text/plain": [
       "     id manufacturer company_location  year_reviewed         bean_origin  \\\n",
       "0  2454         5150           U.S.A.           2019            Tanzania   \n",
       "1  2458         5150           U.S.A.           2019  Dominican Republic   \n",
       "2  2454         5150           U.S.A.           2019          Madagascar   \n",
       "3  2542         5150           U.S.A.           2021                Fiji   \n",
       "4  2546         5150           U.S.A.           2021           Venezuela   \n",
       "\n",
       "                 bar_name  cocoa_percent  num_ingredients ingredients  \\\n",
       "0   Kokoa Kamili, batch 1           76.0              3.0       B,S,C   \n",
       "1         Zorzal, batch 1           76.0              3.0       B,S,C   \n",
       "2  Bejofo Estate, batch 1           76.0              3.0       B,S,C   \n",
       "3   Matasawalevu, batch 1           68.0              3.0       B,S,C   \n",
       "4   Sur del Lago, batch 1           72.0              3.0       B,S,C   \n",
       "\n",
       "                              review  rating  \n",
       "0          rich cocoa, fatty, bready    3.25  \n",
       "1             cocoa, vegetal, savory    3.50  \n",
       "2       cocoa, blackberry, full body    3.75  \n",
       "3                chewy, off, rubbery    3.00  \n",
       "4  fatty, earthy, moss, nutty,chalky    3.00  "
      ]
     },
     "execution_count": 2,
     "metadata": {},
     "output_type": "execute_result"
    }
   ],
   "source": [
    "data = pd.read_csv(\"chocolate_bars.csv\")\n",
    "data.head()"
   ]
  },
  {
   "cell_type": "markdown",
   "id": "06774d8c",
   "metadata": {},
   "source": [
    "## Data cleaning"
   ]
  },
  {
   "cell_type": "code",
   "execution_count": 4,
   "id": "a867967e",
   "metadata": {},
   "outputs": [
    {
     "name": "stdout",
     "output_type": "stream",
     "text": [
      "<class 'pandas.core.frame.DataFrame'>\n",
      "RangeIndex: 2530 entries, 0 to 2529\n",
      "Data columns (total 11 columns):\n",
      " #   Column            Non-Null Count  Dtype  \n",
      "---  ------            --------------  -----  \n",
      " 0   id                2530 non-null   int64  \n",
      " 1   manufacturer      2530 non-null   object \n",
      " 2   company_location  2530 non-null   object \n",
      " 3   year_reviewed     2530 non-null   int64  \n",
      " 4   bean_origin       2530 non-null   object \n",
      " 5   bar_name          2530 non-null   object \n",
      " 6   cocoa_percent     2530 non-null   float64\n",
      " 7   num_ingredients   2443 non-null   float64\n",
      " 8   ingredients       2443 non-null   object \n",
      " 9   review            2530 non-null   object \n",
      " 10  rating            2530 non-null   float64\n",
      "dtypes: float64(3), int64(2), object(6)\n",
      "memory usage: 217.5+ KB\n"
     ]
    }
   ],
   "source": [
    "data.info()"
   ]
  },
  {
   "cell_type": "code",
   "execution_count": 6,
   "id": "fb2b2ce3",
   "metadata": {},
   "outputs": [
    {
     "name": "stdout",
     "output_type": "stream",
     "text": [
      "<class 'pandas.core.frame.DataFrame'>\n",
      "Int64Index: 2443 entries, 0 to 2529\n",
      "Data columns (total 11 columns):\n",
      " #   Column            Non-Null Count  Dtype  \n",
      "---  ------            --------------  -----  \n",
      " 0   id                2443 non-null   int64  \n",
      " 1   manufacturer      2443 non-null   object \n",
      " 2   company_location  2443 non-null   object \n",
      " 3   year_reviewed     2443 non-null   int64  \n",
      " 4   bean_origin       2443 non-null   object \n",
      " 5   bar_name          2443 non-null   object \n",
      " 6   cocoa_percent     2443 non-null   float64\n",
      " 7   num_ingredients   2443 non-null   float64\n",
      " 8   ingredients       2443 non-null   object \n",
      " 9   review            2443 non-null   object \n",
      " 10  rating            2443 non-null   float64\n",
      "dtypes: float64(3), int64(2), object(6)\n",
      "memory usage: 229.0+ KB\n"
     ]
    }
   ],
   "source": [
    "# Drop NaN values\n",
    "data = data.dropna()\n",
    "\n",
    "data.info()"
   ]
  },
  {
   "cell_type": "markdown",
   "id": "4ea538b5",
   "metadata": {},
   "source": [
    "## Challenge - Data Analysis"
   ]
  },
  {
   "cell_type": "markdown",
   "id": "9d1be130",
   "metadata": {},
   "source": [
    "### 1. Average Rating by Country of Origin"
   ]
  },
  {
   "cell_type": "code",
   "execution_count": 12,
   "id": "463e4f27",
   "metadata": {},
   "outputs": [
    {
     "data": {
      "text/html": [
       "<div>\n",
       "<style scoped>\n",
       "    .dataframe tbody tr th:only-of-type {\n",
       "        vertical-align: middle;\n",
       "    }\n",
       "\n",
       "    .dataframe tbody tr th {\n",
       "        vertical-align: top;\n",
       "    }\n",
       "\n",
       "    .dataframe thead th {\n",
       "        text-align: right;\n",
       "    }\n",
       "</style>\n",
       "<table border=\"1\" class=\"dataframe\">\n",
       "  <thead>\n",
       "    <tr style=\"text-align: right;\">\n",
       "      <th></th>\n",
       "      <th>average_rating</th>\n",
       "    </tr>\n",
       "    <tr>\n",
       "      <th>bean_origin</th>\n",
       "      <th></th>\n",
       "    </tr>\n",
       "  </thead>\n",
       "  <tbody>\n",
       "    <tr>\n",
       "      <th>China</th>\n",
       "      <td>3.500000</td>\n",
       "    </tr>\n",
       "    <tr>\n",
       "      <th>Sao Tome &amp; Principe</th>\n",
       "      <td>3.500000</td>\n",
       "    </tr>\n",
       "    <tr>\n",
       "      <th>Solomon Islands</th>\n",
       "      <td>3.450000</td>\n",
       "    </tr>\n",
       "    <tr>\n",
       "      <th>Congo</th>\n",
       "      <td>3.318182</td>\n",
       "    </tr>\n",
       "    <tr>\n",
       "      <th>Thailand</th>\n",
       "      <td>3.300000</td>\n",
       "    </tr>\n",
       "  </tbody>\n",
       "</table>\n",
       "</div>"
      ],
      "text/plain": [
       "                     average_rating\n",
       "bean_origin                        \n",
       "China                      3.500000\n",
       "Sao Tome & Principe        3.500000\n",
       "Solomon Islands            3.450000\n",
       "Congo                      3.318182\n",
       "Thailand                   3.300000"
      ]
     },
     "execution_count": 12,
     "metadata": {},
     "output_type": "execute_result"
    }
   ],
   "source": [
    "# Average rating by country\n",
    "avg_rating_by_country = data.groupby('bean_origin')['rating'].mean().sort_values(ascending=False)\n",
    "\n",
    "\n",
    "avg_rating_by_country = avg_rating_by_country.to_frame(name='average_rating')\n",
    "\n",
    "avg_rating_by_country.head()"
   ]
  },
  {
   "cell_type": "markdown",
   "id": "e3233bfa",
   "metadata": {},
   "source": [
    "China, Sao Tome Principe, Solomon Islands, Congo, Thailand, respectively, are the top 5 countries of bean origin with the highest average rating."
   ]
  },
  {
   "cell_type": "markdown",
   "id": "9e7be230",
   "metadata": {},
   "source": [
    "### 2. Number of Bars Reviewed for Each Country"
   ]
  },
  {
   "cell_type": "code",
   "execution_count": 15,
   "id": "9e81fe8a",
   "metadata": {},
   "outputs": [
    {
     "data": {
      "text/html": [
       "<div>\n",
       "<style scoped>\n",
       "    .dataframe tbody tr th:only-of-type {\n",
       "        vertical-align: middle;\n",
       "    }\n",
       "\n",
       "    .dataframe tbody tr th {\n",
       "        vertical-align: top;\n",
       "    }\n",
       "\n",
       "    .dataframe thead th {\n",
       "        text-align: right;\n",
       "    }\n",
       "</style>\n",
       "<table border=\"1\" class=\"dataframe\">\n",
       "  <thead>\n",
       "    <tr style=\"text-align: right;\">\n",
       "      <th></th>\n",
       "      <th>value_count</th>\n",
       "    </tr>\n",
       "  </thead>\n",
       "  <tbody>\n",
       "    <tr>\n",
       "      <th>Venezuela</th>\n",
       "      <td>246</td>\n",
       "    </tr>\n",
       "    <tr>\n",
       "      <th>Peru</th>\n",
       "      <td>231</td>\n",
       "    </tr>\n",
       "    <tr>\n",
       "      <th>Dominican Republic</th>\n",
       "      <td>220</td>\n",
       "    </tr>\n",
       "    <tr>\n",
       "      <th>Ecuador</th>\n",
       "      <td>201</td>\n",
       "    </tr>\n",
       "    <tr>\n",
       "      <th>Madagascar</th>\n",
       "      <td>171</td>\n",
       "    </tr>\n",
       "  </tbody>\n",
       "</table>\n",
       "</div>"
      ],
      "text/plain": [
       "                    value_count\n",
       "Venezuela                   246\n",
       "Peru                        231\n",
       "Dominican Republic          220\n",
       "Ecuador                     201\n",
       "Madagascar                  171"
      ]
     },
     "execution_count": 15,
     "metadata": {},
     "output_type": "execute_result"
    }
   ],
   "source": [
    "# Value count the number of bars reviewed for each country\n",
    "bars_reviewed_by_country = data['bean_origin'].value_counts()\n",
    "\n",
    "bars_reviewed_by_country = bars_reviewed_by_country.to_frame(name='value_count')\n",
    "bars_reviewed_by_country.head()"
   ]
  },
  {
   "cell_type": "markdown",
   "id": "2bfd9ecf",
   "metadata": {},
   "source": [
    "Venezuela, Peru, Dominican Republic, Ecuador, Madagascar, respectively are the top 5 countries with the highest bar reviews"
   ]
  },
  {
   "cell_type": "markdown",
   "id": "b4d825ef",
   "metadata": {},
   "source": [
    "### 3. Create Plots for Questions 1 and 2"
   ]
  },
  {
   "cell_type": "code",
   "execution_count": 40,
   "id": "51d214a9",
   "metadata": {},
   "outputs": [
    {
     "data": {
      "image/png": "[encoded data removed]",
      "text/plain": [
       "<Figure size 864x432 with 1 Axes>"
      ]
     },
     "metadata": {
      "needs_background": "light"
     },
     "output_type": "display_data"
    }
   ],
   "source": [
    "# Plotting average rating by country\n",
    "plt.figure(figsize=(12, 6))\n",
    "avg_rating_by_country.head(10).plot(kind='bar', figsize=(12, 6))\n",
    "plt.title('Average Rating by Top 10 Countries of Origin')\n",
    "plt.xlabel('Country of Origin')\n",
    "plt.ylabel('Average Rating')\n",
    "plt.xticks(rotation=90)\n",
    "plt.show()"
   ]
  },
  {
   "cell_type": "markdown",
   "id": "fe32d22e",
   "metadata": {},
   "source": [
    "The bar chart shows the top 10 countries of origin with the highest average rating. "
   ]
  },
  {
   "cell_type": "code",
   "execution_count": 20,
   "id": "399b4083",
   "metadata": {},
   "outputs": [
    {
     "data": {
      "image/png": "[encoded data removed]",
      "text/plain": [
       "<Figure size 864x432 with 1 Axes>"
      ]
     },
     "metadata": {
      "needs_background": "light"
     },
     "output_type": "display_data"
    }
   ],
   "source": [
    "# Plotting number of bars reviewed for each country\n",
    "bars_reviewed_by_country.head(10).plot(kind='bar', figsize=(12, 6))\n",
    "plt.title('Number of Bars Reviewed for Top 10 Countries')\n",
    "plt.xlabel('Country of Origin')\n",
    "plt.ylabel('Number of Bars Reviewed')\n",
    "plt.xticks(rotation=90)\n",
    "plt.show()"
   ]
  },
  {
   "cell_type": "markdown",
   "id": "c3bce915",
   "metadata": {},
   "source": [
    "The bar chart shows the top 10 countries of origin having the highest reviews received."
   ]
  },
  {
   "cell_type": "markdown",
   "id": "10c502e8",
   "metadata": {},
   "source": [
    "### 4. Cacao Bean's Origin as an Indicator of Quality"
   ]
  },
  {
   "cell_type": "code",
   "execution_count": 24,
   "id": "295a5167",
   "metadata": {},
   "outputs": [
    {
     "data": {
      "text/plain": [
       "bean_origin\n",
       "China                  3.500000\n",
       "Sao Tome & Principe    3.500000\n",
       "Solomon Islands        3.450000\n",
       "Congo                  3.318182\n",
       "Thailand               3.300000\n",
       "Name: rating, dtype: float64"
      ]
     },
     "execution_count": 24,
     "metadata": {},
     "output_type": "execute_result"
    }
   ],
   "source": [
    "# Get average rating by country\n",
    "avg_rating_by_country = data.groupby('bean_origin')['rating'].mean().sort_values(ascending=False)\n",
    "\n",
    "avg_rating_by_country.head()"
   ]
  },
  {
   "cell_type": "code",
   "execution_count": 23,
   "id": "2cc29646",
   "metadata": {},
   "outputs": [
    {
     "data": {
      "text/plain": [
       "Index(['China', 'Sao Tome & Principe', 'Solomon Islands', 'Congo', 'Thailand',\n",
       "       'Cuba', 'Vietnam', 'Papua New Guinea', 'Madagascar', 'Haiti'],\n",
       "      dtype='object', name='bean_origin')"
      ]
     },
     "execution_count": 23,
     "metadata": {},
     "output_type": "execute_result"
    }
   ],
   "source": [
    "# Choose the top 10 countries with the highest average ratings\n",
    "top_countries = avg_rating_by_country.head(10).index\n",
    "top_countries"
   ]
  },
  {
   "cell_type": "code",
   "execution_count": 27,
   "id": "5d4bd8e3",
   "metadata": {},
   "outputs": [
    {
     "data": {
      "text/html": [
       "<div>\n",
       "<style scoped>\n",
       "    .dataframe tbody tr th:only-of-type {\n",
       "        vertical-align: middle;\n",
       "    }\n",
       "\n",
       "    .dataframe tbody tr th {\n",
       "        vertical-align: top;\n",
       "    }\n",
       "\n",
       "    .dataframe thead th {\n",
       "        text-align: right;\n",
       "    }\n",
       "</style>\n",
       "<table border=\"1\" class=\"dataframe\">\n",
       "  <thead>\n",
       "    <tr style=\"text-align: right;\">\n",
       "      <th></th>\n",
       "      <th>id</th>\n",
       "      <th>manufacturer</th>\n",
       "      <th>company_location</th>\n",
       "      <th>year_reviewed</th>\n",
       "      <th>bean_origin</th>\n",
       "      <th>bar_name</th>\n",
       "      <th>cocoa_percent</th>\n",
       "      <th>num_ingredients</th>\n",
       "      <th>ingredients</th>\n",
       "      <th>review</th>\n",
       "      <th>rating</th>\n",
       "    </tr>\n",
       "  </thead>\n",
       "  <tbody>\n",
       "    <tr>\n",
       "      <th>2</th>\n",
       "      <td>2454</td>\n",
       "      <td>5150</td>\n",
       "      <td>U.S.A.</td>\n",
       "      <td>2019</td>\n",
       "      <td>Madagascar</td>\n",
       "      <td>Bejofo Estate, batch 1</td>\n",
       "      <td>76.0</td>\n",
       "      <td>3.0</td>\n",
       "      <td>B,S,C</td>\n",
       "      <td>cocoa, blackberry, full body</td>\n",
       "      <td>3.75</td>\n",
       "    </tr>\n",
       "    <tr>\n",
       "      <th>11</th>\n",
       "      <td>1011</td>\n",
       "      <td>A. Morin</td>\n",
       "      <td>France</td>\n",
       "      <td>2013</td>\n",
       "      <td>Madagascar</td>\n",
       "      <td>Madagascar, Criollo</td>\n",
       "      <td>70.0</td>\n",
       "      <td>4.0</td>\n",
       "      <td>B,S,C,L</td>\n",
       "      <td>sticky, red fruit, sour</td>\n",
       "      <td>3.00</td>\n",
       "    </tr>\n",
       "    <tr>\n",
       "      <th>14</th>\n",
       "      <td>1015</td>\n",
       "      <td>A. Morin</td>\n",
       "      <td>France</td>\n",
       "      <td>2013</td>\n",
       "      <td>Papua New Guinea</td>\n",
       "      <td>Papua New Guinea</td>\n",
       "      <td>70.0</td>\n",
       "      <td>4.0</td>\n",
       "      <td>B,S,C,L</td>\n",
       "      <td>mild fruit, strong smoke</td>\n",
       "      <td>3.25</td>\n",
       "    </tr>\n",
       "    <tr>\n",
       "      <th>21</th>\n",
       "      <td>1315</td>\n",
       "      <td>A. Morin</td>\n",
       "      <td>France</td>\n",
       "      <td>2014</td>\n",
       "      <td>Cuba</td>\n",
       "      <td>Cuba</td>\n",
       "      <td>70.0</td>\n",
       "      <td>4.0</td>\n",
       "      <td>B,S,C,L</td>\n",
       "      <td>sliglty dry, papaya</td>\n",
       "      <td>3.50</td>\n",
       "    </tr>\n",
       "    <tr>\n",
       "      <th>48</th>\n",
       "      <td>502</td>\n",
       "      <td>Akesson's (Pralus)</td>\n",
       "      <td>U.K.</td>\n",
       "      <td>2010</td>\n",
       "      <td>Madagascar</td>\n",
       "      <td>Madagascar, Ambolikapiky P.</td>\n",
       "      <td>75.0</td>\n",
       "      <td>4.0</td>\n",
       "      <td>B,S,C,L</td>\n",
       "      <td>strong pepper, musty</td>\n",
       "      <td>2.75</td>\n",
       "    </tr>\n",
       "  </tbody>\n",
       "</table>\n",
       "</div>"
      ],
      "text/plain": [
       "      id        manufacturer company_location  year_reviewed  \\\n",
       "2   2454                5150           U.S.A.           2019   \n",
       "11  1011            A. Morin           France           2013   \n",
       "14  1015            A. Morin           France           2013   \n",
       "21  1315            A. Morin           France           2014   \n",
       "48   502  Akesson's (Pralus)             U.K.           2010   \n",
       "\n",
       "         bean_origin                     bar_name  cocoa_percent  \\\n",
       "2         Madagascar       Bejofo Estate, batch 1           76.0   \n",
       "11        Madagascar          Madagascar, Criollo           70.0   \n",
       "14  Papua New Guinea             Papua New Guinea           70.0   \n",
       "21              Cuba                         Cuba           70.0   \n",
       "48        Madagascar  Madagascar, Ambolikapiky P.           75.0   \n",
       "\n",
       "    num_ingredients ingredients                        review  rating  \n",
       "2               3.0       B,S,C  cocoa, blackberry, full body    3.75  \n",
       "11              4.0     B,S,C,L       sticky, red fruit, sour    3.00  \n",
       "14              4.0     B,S,C,L      mild fruit, strong smoke    3.25  \n",
       "21              4.0     B,S,C,L           sliglty dry, papaya    3.50  \n",
       "48              4.0     B,S,C,L          strong pepper, musty    2.75  "
      ]
     },
     "execution_count": 27,
     "metadata": {},
     "output_type": "execute_result"
    }
   ],
   "source": [
    "# Filter the data for top 10 countries with the highest average ratings\n",
    "filtered_data = data[data['bean_origin'].isin(top_countries)]\n",
    "\n",
    "filtered_data.head()"
   ]
  },
  {
   "cell_type": "code",
   "execution_count": 29,
   "id": "f6223efc",
   "metadata": {},
   "outputs": [
    {
     "data": {
      "image/png": "[encoded data removed]",
      "text/plain": [
       "<Figure size 1008x576 with 1 Axes>"
      ]
     },
     "metadata": {
      "needs_background": "light"
     },
     "output_type": "display_data"
    }
   ],
   "source": [
    "# Box plot to visualize the distribution of ratings for different origins\n",
    "plt.figure(figsize=(14, 8))\n",
    "sns.boxplot(x='bean_origin', y='rating', data=filtered_data)\n",
    "plt.title('Distribution of Ratings by Country of Origin')\n",
    "plt.xlabel('Country of Origin')\n",
    "plt.ylabel('Rating')\n",
    "plt.xticks(rotation=90)\n",
    "plt.show()"
   ]
  },
  {
   "cell_type": "markdown",
   "id": "7d24c7ff",
   "metadata": {},
   "source": [
    "The chart shows that quality cocoa beans based on reviews come from Solomon Islands"
   ]
  },
  {
   "cell_type": "markdown",
   "id": "8fdd6339",
   "metadata": {},
   "source": [
    "### 5. Cocoa Content and Rating"
   ]
  },
  {
   "cell_type": "code",
   "execution_count": 30,
   "id": "c142d6d2",
   "metadata": {},
   "outputs": [
    {
     "data": {
      "image/png": "[encoded data removed]",
      "text/plain": [
       "<Figure size 720x432 with 1 Axes>"
      ]
     },
     "metadata": {
      "needs_background": "light"
     },
     "output_type": "display_data"
    }
   ],
   "source": [
    "# Scatter plot of cocoa content vs. rating\n",
    "plt.figure(figsize=(10, 6))\n",
    "sns.scatterplot(x='cocoa_percent', y='rating', data=data, color='orange')\n",
    "plt.title('Cocoa Content vs. Rating')\n",
    "plt.xlabel('Cocoa Content (%)')\n",
    "plt.ylabel('Rating')\n",
    "plt.show()"
   ]
  },
  {
   "cell_type": "markdown",
   "id": "0332ab19",
   "metadata": {},
   "source": [
    "The plot indicates that Cocoa content between 60 to 90 have most ratings between 2.0 to 4.0"
   ]
  },
  {
   "cell_type": "code",
   "execution_count": 41,
   "id": "3fd15526",
   "metadata": {},
   "outputs": [
    {
     "name": "stdout",
     "output_type": "stream",
     "text": [
      "Average Cocoa Content for Bars with Ratings Above 3.5: 70.996%\n"
     ]
    }
   ],
   "source": [
    "# Average cocoa content for bars with higher ratings (above 3.5)\n",
    "high_rating_bars = data[data['rating'] > 3.5]\n",
    "avg_cocoa_content_high_rating = high_rating_bars['cocoa_percent'].mean()\n",
    "print(f\"Average Cocoa Content for Bars with Ratings Above 3.5: {avg_cocoa_content_high_rating.round(3)}%\")"
   ]
  },
  {
   "cell_type": "markdown",
   "id": "06714031",
   "metadata": {},
   "source": [
    "Here, there is an indication that the average Cocoa Content for Bars with ratings above 3.5 is 70.996% (appx. 71%)"
   ]
  },
  {
   "cell_type": "markdown",
   "id": "b6429cb0",
   "metadata": {},
   "source": [
    "### 6. Average Rating of Bars with and Without Lecithin"
   ]
  },
  {
   "cell_type": "code",
   "execution_count": 43,
   "id": "2f699d2a",
   "metadata": {},
   "outputs": [
    {
     "data": {
      "text/plain": [
       "ingredients\n",
       "B,S,C       3.278529\n",
       "B,S         3.229457\n",
       "B,S,C,L     3.213287\n",
       "B,S,V       3.166667\n",
       "B,S,C,Sa    3.150000\n",
       "Name: rating, dtype: float64"
      ]
     },
     "execution_count": 43,
     "metadata": {},
     "output_type": "execute_result"
    }
   ],
   "source": [
    "# Compare the average rating of bars with and without lecithin\n",
    "lecithin_vs_no_lecithin = data.groupby('ingredients')['rating'].mean().sort_values(ascending=False)\n",
    "\n",
    "lecithin_vs_no_lecithin.head()"
   ]
  },
  {
   "cell_type": "code",
   "execution_count": 44,
   "id": "f23b035f",
   "metadata": {},
   "outputs": [
    {
     "data": {
      "image/png": "[encoded data removed]",
      "text/plain": [
       "<Figure size 864x432 with 1 Axes>"
      ]
     },
     "metadata": {
      "needs_background": "light"
     },
     "output_type": "display_data"
    }
   ],
   "source": [
    "# Plotting average rating of bars with and without lecithin\n",
    "plt.figure(figsize=(12, 6))\n",
    "sns.barplot(x=lecithin_vs_no_lecithin.index, y=lecithin_vs_no_lecithin.values)\n",
    "plt.title('Average Rating of Bars with and without Lecithin')\n",
    "plt.xlabel('With and Without Lecithin')\n",
    "plt.ylabel('Average Rating')\n",
    "plt.xticks(rotation=90)\n",
    "plt.show()"
   ]
  },
  {
   "cell_type": "markdown",
   "id": "72425a7e",
   "metadata": {},
   "source": [
    "The chart shows that `B,S,C`, `B,S`, `B,S,C,L`, `B,S,V` and `B,S,C,Sa` are the bar ingredients, respectively with the highest ratings. Only `B,S,C,L` contains the `lecithin` ingredient. "
   ]
  },
  {
   "cell_type": "markdown",
   "id": "2b5750f7",
   "metadata": {},
   "source": [
    "## Summary"
   ]
  },
  {
   "cell_type": "markdown",
   "id": "2b1565c4",
   "metadata": {},
   "source": [
    "1. China, Sao Tome Principe, Solomon Islands, Congo, Thailand, respectively, are the top 5 countries of bean origin with the highest average rating.\n",
    "2. Venezuela, Peru, Dominican Republic, Ecuador, Madagascar, respectively are the top 5 countries with the highest bar reviews.\n",
    "3. Quality cocoa beans based on reviews come from Solomon Islands.\n",
    "4. Cocoa Content between 60 to 90 have most ratings between 2.0 to 4.0.\n",
    "5. there is an indication that the average Cocoa Content for Bars with ratings above 3.5 is 70.996% (appx. 71%).\n",
    "6. `B,S,C`, `B,S`, `B,S,C,L`, `B,S,V` and `B,S,C,Sa` are the bar ingredients, respectively with the highest ratings. Only `B,S,C,L` contains the `Lecithin` ingredient."
   ]
  },
  {
   "cell_type": "markdown",
   "id": "f510ec48",
   "metadata": {},
   "source": [
    "References\n",
    "1. <a href = \"https://chat.openai.com/\">ChatGPT</a>"
   ]
  },
  {
   "cell_type": "code",
   "execution_count": null,
   "id": "b3c70f51",
   "metadata": {},
   "outputs": [],
   "source": []
  }
 ],
 "metadata": {
  "editor": "DataCamp Workspace",
  "kernelspec": {
   "display_name": "Python 3 (ipykernel)",
   "language": "python",
   "name": "python3"
  },
  "language_info": {
   "codemirror_mode": {
    "name": "ipython",
    "version": 3
   },
   "file_extension": ".py",
   "mimetype": "text/x-python",
   "name": "python",
   "nbconvert_exporter": "python",
   "pygments_lexer": "ipython3",
   "version": "3.9.12"
  }
 },
 "nbformat": 4,
 "nbformat_minor": 5
}
